{
 "cells": [
  {
   "cell_type": "markdown",
   "metadata": {},
   "source": [
    "# 1. Proving Identities\n",
    "---\n",
    "#### Use Latex programming to show your solutions.\n",
    "#### Be Resourceful, use the internet.\n",
    "Given: A and B are sets, $\\exists$ x such that (x $\\in$ A $\\land$ x $\\in$ B)<br>\n",
    "Show that:\n",
    "1. A\\B = A $\\cap$ $B^{c}$ \n",
    "\n",
    "- By the definition of complement, it follows that $B^{c}$ = $U$ - $B$. \n",
    "- We cup both sides with set $A$ which gives:  $A \\cap B^C = A \\cap \\mathcal{U} - A \\cap B$ (Distributive Law). \n",
    "- By Domination Law, $A \\cap \\mathcal{U} = A$, which results to: $A \\cap B^C = A -A \\cap B$. \n",
    "- It follows by definition that $A\\setminus B =  A - A\\cap B$. \n",
    "- Therefore, $A \\setminus B = A \\cap B^C$ is true.\n",
    "\n",
    "2. B = (B $\\cap$ A) $\\cup$ (B $\\cap$ $A^{c}$)\n",
    "\n",
    "- $x$ $\\in$ $B$ $\\cap$ ($A$ $\\cup$ $A^C$) and  $x$ $\\in$ $A$ $\\cup A^C$ (Distributive Law)\n",
    "-  $x$ $\\in$ $A \\cup A^C = \\mathcal {U}$ and $x$ $\\in$ $B \\cap \\mathcal{U}$ = $B$ then $x$ $\\in$ $B$\n",
    "<br> (Domination Law)\n",
    "- Therefore, B = (B $\\cap$ A) $\\cup$ (B $\\cap$ $A^{c}$) is true.\n",
    "3. B\\A = B $\\cap$ $A^{c}$\n",
    "\n",
    "- By the definition of complement, $A^C = \\mathcal{U} - A$\n",
    "- We cup both sides with the set $B$, which gives: $B \\cap A^C = B \\cap \\mathcal{U} - B \\cap A$ (Distributive Law) \n",
    "- $B \\cap \\mathcal{U} = B$, which results to: $B \\cap A^C = B -B \\cap A$. (Domination Law)\n",
    "-  $B\\setminus A =  B - B\\cap A$. \n",
    "- Therefore, B\\A = B $\\cap$ $A^{c}$ is true\n",
    "4. A $\\cup$ B = A $\\cup$ (B $\\cap$ $A^{c}$)\n",
    "\n",
    "- $A$ $\\cup (B\\cap A^C)$\n",
    "- $\\{x \\mid x \\in A \\vee (x \\in B \\wedge x \\in A^{c})\\}$\n",
    "- Using Distributive Law,  $\\{x \\mid (x \\in A \\wedge x \\in B) \\vee (x \\in A \\wedge x \\in A^{c})\\}$\n",
    "- $\\{x \\mid (x \\in A \\wedge x \\in B) \\vee \\text{false}\\}$\n",
    "- It is because x cannot \"be and not be\" in A simultaneously\n",
    "- $\\{x \\mid x \\in A \\wedge x \\in B\\}$\n",
    "- $A \\cup B$\n",
    "- Therefore, A $\\cup$ B = A $\\cup$ (B $\\cap$ $A^{c}$) is true\n",
    "\n",
    "5. $(\\textbf{U}_{i=1}^{\\infty} A_{i}^{c})^{c}$ = $\\cap_{i=1}^{\\infty}A_{i}$\n",
    "\n",
    "\n",
    "- LHS = $(\\bigcup_{i=1}^{\\infty} A_{i}^{c})^{c}$\n",
    "- LHS = $(\\bigcap_{i=1}^{\\infty} (A_{i}^{c})^{c})$ * (De Morgan's Law)\n",
    "- LHS = $\\bigcap_{i=1}^{\\infty} A_{i}$ *\n",
    "- Therefore, $(\\textbf{U}_{i=1}^{\\infty} A_{i}^{c})^{c}$ = $\\cap_{i=1}^{\\infty}A_{i}$ is true\n",
    "6. |A $\\cup$ B| = |A| + |B| - |A $\\cap$ B|\n",
    "\n",
    "\n",
    "- Let x $\\in$ $A$ $\\cap$ $B$ $\\rightarrow$ x $\\in$ $A$ or x $\\in$ $B$\n",
    "<br>\n",
    "\n",
    "If |$A$ $\\cup$ $B$| are disjoint:\n",
    "\n",
    "- $A$ $\\cap$ $B$| = $\\emptyset$ \n",
    "\n",
    "If |$A$ $\\cup$ $B$| are not disjoint:\n",
    "\n",
    "- $x$ $\\in$ |$A$| and $x$ $\\in$ |$B$|\n",
    "\n",
    "- $x$ $\\in$ |$A$ $\\cap$ $B$| = |$A$ $\\cup$ $B$| and |$A$ $\\cup$ $B$|=|$A$| + |$B$| - |A $\\cap$ B|\n",
    "\n",
    "- Therefore, |A $\\cup$ B| = |A| + |B| - |A $\\cap$ B| is true"
   ]
  },
  {
   "cell_type": "markdown",
   "metadata": {},
   "source": [
    "# 2. Sets and Subsets\n",
    "---\n",
    "#### Use Latex Programming to show your solutions.\n",
    "1. If A = {2,3,4,5}, and B = {$x \\in \\mathbb{N} | x \\ is \\ even$}. Is A $\\subset$ B? Show a proof.\n",
    "\n",
    "- No, since $A$ have elements that are odd numbers (3,5). Since  B = {$x \\in \\mathbb{N} | x \\ is \\ even$}, $A$ would contradict the condition of $B$. $\\therefore$, false.\n",
    "\n",
    "\n",
    "\n",
    "\n",
    "2. Let sets $\\textbf{A} = \\{x|x \\in \\mathbb{Z}, 0 \\leq x \\leq 9\\},\n",
    "\\textbf{B} = \\{ 2,4,6,8\\},\n",
    "\\ and \\ \n",
    "\\textbf{C}  = \\{ 1,3,5,7,9\\}\n",
    "\\ and \\ \\textbf{D}  = \\{ 3,4,5\\}$\n",
    "Find a set $\\textbf{X}$ which will satisfy the following conditions:\n",
    "    1. $\\textbf{X} \\ and \\ \\textbf{B}$ are disjoint.\n",
    "    2. $\\textbf{X} \\subseteq \\textbf{D}$ but $\\textbf{X} \\nsubseteq \\textbf{B}$.\n",
    "    3. $\\textbf{X} \\subseteq \\textbf{A}$ but $\\textbf{X} \\not\\subset \\textbf{C}$.\n",
    "\n",
    "- $X$ = {1,3,5,7,9} in order for $X$ and $B$ to be disjoint.\n",
    "- $X$ = {3,5} in order for it to be a subset of $D$.\n",
    "- $X$ = {2,4,6,8} in order for it to be a subset of A. \n",
    "\n",
    "\n",
    "    "
   ]
  },
  {
   "cell_type": "markdown",
   "metadata": {},
   "source": [
    "# 3. Set Operations\n",
    "---\n",
    "#### Use this website https://learnpython.com/blog/set-operations-in-python/ to learn about set Operations in Python.\n",
    "##### 1. First solve the problems manually, use Latex programming to show your manual solutions.\n",
    "\n",
    "\n",
    "##### 2. Second, solve the problem using python. Show your codes for the pythonic solutions.\n",
    "##### Hint: You know your solutions is right if your manual solution is equivalent to your pythonic solution.\n",
    "\n",
    "Given:<br>\n",
    "$\\textbf{U} = \\{1,2,3,4,5\\}$<br>\n",
    "$\\textbf{A} = \\{1,2,3,4,5\\}$<br>\n",
    "$\\textbf{B} = \\{4,5,6,7\\}$<br>\n",
    "$\\textbf{C} = \\{5,6,7,8,9\\}$<br>\n",
    "$\\textbf{D} = \\{1,3,5,7,9\\}$<br>\n",
    "$\\textbf{E} = \\{2,4,6,8\\}$<br>\n",
    "$\\textbf{F} = \\{1,5,9\\}$<br>\n",
    "\n",
    "##### 1. Solutions:\n",
    "- $\\textbf{C} \\oplus \\textbf{D}$\n",
    "\n",
    " ($C$-$D$) $\\cup$ ($D$-$C$) = {6,8} $\\cup$ {$1$,$3$} = {1,3,6,8}\n",
    "- $\\textbf{A} \\backslash \\textbf{B}$\n",
    "\n",
    "$A$-$B$ = {1,2,3} \n",
    "- $\\textbf{B} \\backslash \\textbf{A}$\n",
    "\n",
    "$B$-$A$ = {6,7}\n",
    "- $\\textbf{E} \\oplus \\textbf{F}$\n",
    "\n",
    "($E$-$F$) $\\cup$ ($F$-$E$) = {1,2,4,5,6,8,9}"
   ]
  },
  {
   "cell_type": "code",
   "execution_count": 1,
   "metadata": {},
   "outputs": [
    {
     "name": "stdout",
     "output_type": "stream",
     "text": [
      "{1, 3, 6, 8}\n",
      "{1, 2, 3}\n",
      "{6, 7}\n",
      "{1, 2, 4, 5, 6, 8, 9}\n"
     ]
    }
   ],
   "source": [
    "#2. Pythonic Solutions\n",
    "\n",
    "U = {1,2,3,4,5}\n",
    "A = {1,2,3,4,5}\n",
    "B = {4,5,6,7}\n",
    "C = {5,6,7,8,9}\n",
    "D = {1,3,5,7,9}\n",
    "E = {2,4,6,8}\n",
    "F = {1,5,9}\n",
    "\n",
    "\n",
    "print(C ^ D)\n",
    "print(A - B)\n",
    "print(B - A)\n",
    "print(E ^ F)"
   ]
  },
  {
   "cell_type": "markdown",
   "metadata": {},
   "source": [
    "# 4. Finite Sets and The Counting Principles\n"
   ]
  },
  {
   "cell_type": "markdown",
   "metadata": {},
   "source": [
    "1. Draw the Venn diagram using Python."
   ]
  },
  {
   "cell_type": "code",
   "execution_count": 10,
   "metadata": {},
   "outputs": [
    {
     "data": {
      "text/plain": [
       "<matplotlib_venn._common.VennDiagram at 0x2059800b8d0>"
      ]
     },
     "execution_count": 10,
     "metadata": {},
     "output_type": "execute_result"
    },
    {
     "data": {
      "image/png": "[encoded data removed]",
      "text/plain": [
       "<Figure size 640x480 with 1 Axes>"
      ]
     },
     "metadata": {},
     "output_type": "display_data"
    }
   ],
   "source": [
    "venn3(subsets = (28, 18, 12, 10, 17, 7, 8), set_labels = ('$Newsweek$', '$Times$', '$Fortune$'))"
   ]
  },
  {
   "cell_type": "markdown",
   "metadata": {},
   "source": [
    "In a Survey of 120 People, it was found that:\n",
    "- 65 read Newsweek Magazine\n",
    "- 45 read Times Magazine\n",
    "- 42 read Fortune Magazine\n",
    "- 20 read Both Newsweek and Time\n",
    "- 25 read both Newsweek and Fortune\n",
    "- 15 read both Time and Fortune\n",
    "- 8 read all three magazines\n",
    "\n",
    "With this information, do the following:\n",
    "1. Draw the Venn diagram using Python.\n",
    "2. Find the number of people who read at **least one** of the three magazines.\n",
    "\n",
    "- $|A| \\cup |B| \\cup |C| = |A| + |B| + |C| - |A \\cap B| - |A \\cap C| - |B \\cap C| + |A \\cap B \\cap C| = 65 + 45 + 42 - 20 - 25 - 15 + 8 = 100$\n",
    "\n",
    "- 100 out of 120 people read at least one of the three magazines \n",
    "\n",
    "3. Find the number of people who read exactly one magazine.\n",
    "\n",
    "- $|A| - |A \\cap B| - |A \\cap C| + |A \\cap B \\cap C| = 65 - 20 - 25 + 8 = 28$ (Newsweek)\n",
    "- $|B| - |A \\cap B| - |B \\cap C| + |A \\cap B \\cap C| = 45 - 20 - 15 + 8 = 18$ (Times)\n",
    "- $|C| - |B \\cap C| - |A \\cap C| + |A \\cap B \\cap C| = 42 - 15 - 25 + 8 = 10$ (Fortune)\n",
    "- $28 + 18 + 10 = 56$\n",
    "\n",
    "- 56 out of 120 people read exactly one magazine\n"
   ]
  },
  {
   "cell_type": "markdown",
   "metadata": {},
   "source": [
    "2. In a survey of 25 new cars being sold at a local auto dealer was conducted to see which of the three popular options: air-conditioning, denoted as A; radio, denoted as R; and power windows, denoted as W were installed. The survey found that:\n",
    "- 15 had A. HINT: The condition said $\\textbf{\"had an A\"}$  <font color='red'>$\\textbf{ AND NOT}$ <font color='black'>$\\textbf{\"had an A only\"}$\n",
    "- 12 had R. HINT: The condition said $\\textbf{\"had a R\"}$  <font color='red'>$\\textbf{ AND NOT}$ <font color='black'>$\\textbf{\"had a R only\"}$\n",
    "- 11 had W. HINT: The condition said $\\textbf{\"had a W\"}$  <font color='red'>$\\textbf{ AND NOT}$ <font color='black'>$\\textbf{\"had a W only\"}$\n",
    "- 5 had A and W.\n",
    "- 9 had A and R.\n",
    "- 4 had R and W.\n",
    "- Only 3 hace the three options.\n",
    "\n",
    "\n",
    "With these information do the following:<br>\n",
    "-  Draw the venn diagram using python.<br>\n"
   ]
  },
  {
   "cell_type": "code",
   "execution_count": 14,
   "metadata": {},
   "outputs": [
    {
     "data": {
      "image/png": "[encoded data removed]",
      "text/plain": [
       "<Figure size 640x480 with 1 Axes>"
      ]
     },
     "metadata": {},
     "output_type": "display_data"
    }
   ],
   "source": [
    "A={15,5,9,3} \n",
    "B={12,9,4,3} \n",
    "C={11,5,4,3} \n",
    "\n",
    "venn = venn3(subsets=(len(A - B - C), len(B - A - C), len(A & B - C), len(C - A - B),\n",
    "                      len(A & C - B), len(B & C - A), len(A & B & C)),\n",
    "             set_labels=('A', 'R', 'W'))\n",
    "\n",
    "venn.get_label_by_id('100').set_text('4')\n",
    "venn.get_label_by_id('010').set_text('2')\n",
    "venn.get_label_by_id('110').set_text('6')\n",
    "venn.get_label_by_id('001').set_text('5')\n",
    "venn.get_label_by_id('101').set_text('2')\n",
    "venn.get_label_by_id('011').set_text('1')\n",
    "venn.get_label_by_id('111').set_text('3')\n",
    "\n",
    "plt.title(\"Survey for 25 New Cars\")\n",
    "plt.show()"
   ]
  },
  {
   "cell_type": "markdown",
   "metadata": {},
   "source": [
    "- Find the number of cars with W only.<br>\n",
    "$\\rightarrow |W| = |W| - (|A \\cap W| + |R \\cap W| - |A\\cap R \\cap W|) = 11 - (5 + 4 - 3) = {5}$\n",
    "\n",
    "- Find the number of cars with A only.<br>\n",
    "$\\rightarrow |A| = |A| - (|A \\cap W| + |A \\cap R| - |A\\cap R \\cap W|) = 15 - (5 + 9 - 3) = {4}$\n",
    "\n",
    "- Find the number of cars with R only.<br>\n",
    "$\\rightarrow |R| = |R| - (|A \\cap R| + |R \\cap W| - |A\\cap R \\cap W|) = 12 - (9 + 4 - 3) = {2}$\n",
    "\n",
    "- Find the number of cars with both R and W but not A.<br>\n",
    "$\\rightarrow |R \\cap W| = |R \\cap W| - |A\\cap R \\cap W| = 4 - 3 = {1}$\n",
    "\n",
    "- Find the number of cars with both A and R but not W.<br>\n",
    "$\\rightarrow |A \\cap R| = |A \\cap R| - |A\\cap R \\cap W| = 9 - 3 = {6}$\n",
    "\n",
    "- Find the number of cars with only one of the options.<br>\n",
    "$\\rightarrow Only one = |A| + |W| + |R| = 5 + 4 + 2 = {11}$ \n",
    "\n",
    "- Find the number of cars with at least one option.<br>\n",
    "$\\rightarrow |A \\cup R \\cup W| = |A| + |R| + |W| - |A \\cap R| - |A \\cap W| - |R \\cap W| + |A\\cap R \\cap W| = 15 + 12 + 11 - 9 - 5 - 4 + 3 = {23}$\n",
    "\n",
    "- Find the number of cars with none of the Options.<br>\n",
    "$\\rightarrow |\\mathcal{U}| = |\\mathcal{U} - |A \\cup R \\cup W| = 25 - 23 = {2}$"
   ]
  }
 ],
 "metadata": {
  "kernelspec": {
   "display_name": "Python 3",
   "language": "python",
   "name": "python3"
  },
  "language_info": {
   "codemirror_mode": {
    "name": "ipython",
    "version": 3
   },
   "file_extension": ".py",
   "mimetype": "text/x-python",
   "name": "python",
   "nbconvert_exporter": "python",
   "pygments_lexer": "ipython3",
   "version": "3.11.5"
  },
  "orig_nbformat": 4
 },
 "nbformat": 4,
 "nbformat_minor": 2
}
